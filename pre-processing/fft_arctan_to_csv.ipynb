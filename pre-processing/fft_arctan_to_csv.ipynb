{
 "cells": [
  {
   "cell_type": "code",
   "execution_count": 7,
   "id": "cb5f553b",
   "metadata": {
    "scrolled": true
   },
   "outputs": [
    {
     "name": "stdout",
     "output_type": "stream",
     "text": [
      "\n"
     ]
    }
   ],
   "source": [
    "import serial\n",
    "import csv\n",
    "import time\n",
    "import pandas as pd\n",
    "from datetime import datetime, timedelta\n",
    "from time import sleep\n",
    "import numpy as np\n",
    "import math\n",
    "import matplotlib.pyplot as plt\n",
    "from sklearn.model_selection import train_test_split\n",
    "from sklearn.svm import SVC\n",
    "from sklearn.metrics import classification_report\n",
    "from sklearn.tree import DecisionTreeClassifier\n",
    "from sklearn.ensemble import RandomForestClassifier\n",
    "from scipy import signal\n",
    "import matplotlib.pyplot as plt\n",
    "import math\n",
    "from PIL import Image\n",
    "\n",
    "np.random.seed(202205456)\n",
    "\n",
    "data0506 = [\n",
    "            \"../0506data/手2022-05-06 114900-4.csv\",\n",
    "            \"../0506data/手2022-05-06 113600-4.csv\",\n",
    "            \"../0506data/手2022-05-06 115200-2.csv\",\n",
    "            \"../0506data/腳2022-05-06 120000-4.csv\",\n",
    "            \"../0506data/腳2022-05-06 120300-3.csv\",\n",
    "            \"../0506data/腳2022-05-06 120500-4.csv\",\n",
    "            \"../腳_1.csv\"]\n",
    "                                                    \n",
    "data0510 = [\n",
    "            \"../0510data/手腳2022-05-10 104600.csv\", #0\n",
    "            \"../0510data/手腳2022-05-10 104400.csv\",#\n",
    "            \"../0510data/手腳2022-05-10 104800.csv\",\n",
    "            \"../0510data/手腳2022-05-10 104000.csv\",\n",
    "            \"../0510data/手2022-05-10 103600.csv\",\n",
    "            \"../0510data/手2022-05-10 103800.csv\",\n",
    "            \"../0510data/手2022-05-10 104000.csv\",\n",
    "            \"../0510data/手2022-05-10 103600優化.csv\",#7\n",
    "            \"../0510data/手2022-05-10 103800優化.csv\",#8\n",
    "            \"../0510data/手2022-05-10 104000優化.csv\",#9\n",
    "            \"../0510data/腳2022-05-10 103600優化.csv\",#10\n",
    "            \"../0510data/腳2022-05-10 103800優化.csv\",#11\n",
    "            \"../0510data/腳2022-05-10 104000優化.csv\",#12\n",
    "            \"../0510data/腳2022-05-10 104000.csv\"]\n",
    "\n",
    "def RF(data):\n",
    "    data = np.array(pd.read_csv(data))\n",
    "    add = []\n",
    "    fs_start = 8\n",
    "    fs_end = len(data[:,1])-17 + 8 \n",
    "    for i in range(len(data[:,1])-17):\n",
    "        add.append([])\n",
    "#     data = np.array(pd.read_csv(data))\n",
    "    f, t, fft_gx = signal.stft(data[:,1],fs=1,noverlap=17,nperseg=18,nfft=1297,return_onesided= False,padded=True,detrend=False,boundary=None)\n",
    "    f1, t1, fft_gy = signal.stft(data[:,2],fs=1,noverlap=17,nperseg=18,nfft=1297,return_onesided= False,padded=True,detrend=False,boundary=None)\n",
    "    f2, t2, fft_gz = signal.stft(data[:,3],fs=1,noverlap=17,nperseg=18,nfft=1297,return_onesided= False,padded=True,detrend=False,boundary=None)\n",
    "    f3, t3, fft_ax = signal.stft(data[:,7],fs=1,noverlap=17,nperseg=18,nfft=1297,return_onesided= False,padded=True,detrend=False,boundary=None)\n",
    "    f4, t4, fft_ay = signal.stft(data[:,8],fs=1,noverlap=17,nperseg=18,nfft=1297,return_onesided= False,padded=True,detrend=False,boundary=None)\n",
    "    f5, t5, fft_az = signal.stft(data[:,9],fs=1,noverlap=17,nperseg=18,nfft=1297,return_onesided= False,padded=True,detrend=False,boundary=None)\n",
    "    #fft_gx\n",
    "    for i in range (len(fft_gx[100,:])):\n",
    "        add[i].append(math.atan2((fft_gx[100,i].real),(fft_gx[100,i].imag)))\n",
    "        add[i].append(math.atan2((fft_gx[600,i].real),(fft_gx[600,i].imag)))\n",
    "        add[i].append(math.atan2((fft_gx[800,i].real),(fft_gx[800,i].imag)))\n",
    "        \n",
    "    #fft_gy\n",
    "    for i in range (len(fft_gy[100,:])):\n",
    "        add[i].append(math.atan2((fft_gy[100,i].real),(fft_gy[100,i].imag)))\n",
    "        add[i].append(math.atan2((fft_gy[600,i].real),(fft_gy[600,i].imag)))\n",
    "        add[i].append(math.atan2((fft_gy[800,i].real),(fft_gy[800,i].imag)))\n",
    "    #fft_gz\n",
    "    for i in range (len(fft_gz[100,:])):\n",
    "        add[i].append(math.atan2((fft_gz[100,i].real),(fft_gz[100,i].imag)))\n",
    "        add[i].append(math.atan2((fft_gz[600,i].real),(fft_gz[600,i].imag)))\n",
    "        add[i].append(math.atan2((fft_gz[800,i].real),(fft_gz[800,i].imag)))\n",
    "    #fft_ax\n",
    "    for i in range (len(fft_ax[100,:])):\n",
    "        add[i].append(math.atan2((fft_ax[100,i].real),(fft_ax[100,i].imag)))\n",
    "        add[i].append(math.atan2((fft_ax[600,i].real),(fft_ax[600,i].imag)))\n",
    "        add[i].append(math.atan2((fft_ax[800,i].real),(fft_ax[800,i].imag)))\n",
    "    #fft_ay\n",
    "    for i in range (len(fft_ay[100,:])):\n",
    "        add[i].append(math.atan2((fft_ay[100,i].real),(fft_ay[100,i].imag)))\n",
    "        add[i].append(math.atan2((fft_ay[600,i].real),(fft_ay[600,i].imag)))\n",
    "        add[i].append(math.atan2((fft_ay[800,i].real),(fft_ay[800,i].imag)))\n",
    "    #fft_az\n",
    "    for i in range (len(fft_az[100,:])):\n",
    "        add[i].append(math.atan2((fft_az[100,i].real),(fft_az[100,i].imag)))\n",
    "        add[i].append(math.atan2((fft_az[600,i].real),(fft_az[600,i].imag)))\n",
    "        add[i].append(math.atan2((fft_az[800,i].real),(fft_az[800,i].imag)))\n",
    "    \n",
    "    data = np.append(data[fs_start:fs_end,:], add , axis=1)\n",
    "#     pandasData={\"Xg\":data[:,1],\"Yg\":data[:,2],\"Zg\":data[:,3],\"Xm\":data[:,4],\"Ym\":data[:,5],\"Zm\":data[:,6],\"Xa\":data[:,7],\"Ya\":data[:,8],\"Za\":data[:,9],\"Xq\":data[:,10],\"Yq\":data[:,11],\"Zq\":data[:,12],\"Direction\":data[:,13],\"SensorTime\":data[:,14],\"Time\":data[:,15],\"Label\":data[:,16],\"Fft_gx1\":data[:,17],\"Fft_gx2\":data[:,18],\"Fft_gx3\":data[:,19],\"Fft_gy1\":data[:,20],\"Fft_gy2\":data[:,21],\"Fft_gy3\":data[:,22],\"Fft_gz1\":data[:,23],\"Fft_gz2\":data[:,24],\"Fft_gz3\":data[:,25]}\n",
    "    pandasData={\"Xg\":data[:,1],\"Yg\":data[:,2],\"Zg\":data[:,3],\"Xm\":data[:,4],\"Ym\":data[:,5],\"Zm\":data[:,6],\"Xa\":data[:,7],\"Ya\":data[:,8],\"Za\":data[:,9],\"Xq\":data[:,10],\"Yq\":data[:,11],\"Zq\":data[:,12],\"Direction\":data[:,13],\"SensorTime\":data[:,14],\"Time\":data[:,15],\"Label\":data[:,16],\"Fft_gx\":data[:,17],\"Fft_gy\":data[:,20],\"Fft_gz\":data[:,23],\"Fft_ax\":data[:,26],\"Fft_ay\":data[:,29],\"Fft_az\":data[:,32]}\n",
    "   \n",
    "    df = pd.DataFrame(pandasData)\n",
    "    df.to_csv('../Add_fft_features_data/AfterFft_fft_arctan_40_Hand'+'.csv')\n",
    "for i in range(1):\n",
    "    print(\"\")\n",
    "    RF(data0510[i+9])"
   ]
  },
  {
   "cell_type": "code",
   "execution_count": null,
   "id": "88c3130f",
   "metadata": {},
   "outputs": [],
   "source": []
  }
 ],
 "metadata": {
  "kernelspec": {
   "display_name": "Python 3.9.7 ('base')",
   "language": "python",
   "name": "python3"
  },
  "language_info": {
   "codemirror_mode": {
    "name": "ipython",
    "version": 3
   },
   "file_extension": ".py",
   "mimetype": "text/x-python",
   "name": "python",
   "nbconvert_exporter": "python",
   "pygments_lexer": "ipython3",
   "version": "3.9.7"
  },
  "vscode": {
   "interpreter": {
    "hash": "a9b4500a64cdd468ae277a4a17aeb127f09536bb33390348045dff059b4b55d4"
   }
  }
 },
 "nbformat": 4,
 "nbformat_minor": 5
}
