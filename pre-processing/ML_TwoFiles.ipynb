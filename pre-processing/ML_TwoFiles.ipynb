{
 "cells": [
  {
   "cell_type": "code",
   "execution_count": 138,
   "metadata": {},
   "outputs": [],
   "source": [
    "data0506 = [\n",
    "            \"../All_Data/new_data/手2022-05-06 114900-4.csv\",\n",
    "            \"../All_Data/new_data/手2022-05-06 113600-3.csv\",\n",
    "            \"../All_Data/new_data/手2022-05-06 115200-2.csv\",\n",
    "            \"../All_Data/new_data/腳2022-05-06 120000-4.csv\",\n",
    "            \"../All_Data/new_data/腳2022-05-06 120300-3.csv\",\n",
    "            \"../All_Data/new_data/腳2022-05-06 120500-4.csv\"]\n",
    "                                                     \n",
    "data0510 = [\n",
    "            \"../All_Data/0510data/手2022-05-10 103600.csv\",\n",
    "            \"../All_Data/0510data/手2022-05-10 103800.csv\",\n",
    "            \"../All_Data/0510data/手2022-05-10 104000.csv\",\n",
    "            \"../All_Data/0510data/腳2022-05-10 103600.csv\",\n",
    "            \"../All_Data/0510data/腳2022-05-10 103800.csv\",\n",
    "            \"../All_Data/0510data/腳2022-05-10 104000.csv\"]"
   ]
  },
  {
   "cell_type": "code",
   "execution_count": 139,
   "metadata": {},
   "outputs": [],
   "source": [
    "import pandas as pd\n",
    "import csv\n",
    "import numpy as np\n",
    "import matplotlib.pyplot as plt\n",
    "from sklearn.model_selection import train_test_split\n",
    "from sklearn.svm import SVC\n",
    "from sklearn.metrics import classification_report\n",
    "from sklearn.tree import DecisionTreeClassifier\n",
    "from sklearn.ensemble import RandomForestClassifier\n",
    "\n",
    "np.random.seed(202205456)"
   ]
  },
  {
   "cell_type": "code",
   "execution_count": 140,
   "metadata": {},
   "outputs": [],
   "source": [
    "def SVM(data,data2):     \n",
    "    train_data=[]\n",
    "    train_data.append(np.array(pd.read_csv(data[0])))\n",
    "    train_data.append(np.array(pd.read_csv(data[1])))\n",
    "\n",
    "    dataSeries = np.concatenate([train_data[0][:,1:10],train_data[1][:,1:10]])\n",
    "    labelSeries = np.concatenate([train_data[0][:,16],train_data[1][:,16]])\n",
    "\n",
    "\n",
    "    data2 = np.array(pd.read_csv(data2))\n",
    "    labelTest = data2[:,16]\n",
    "    dataTest = data2[:,1:10]\n",
    "\n",
    "    svm = SVC(kernel=\"rbf\",gamma = 0.5, probability=True)\n",
    "    svm.fit(dataSeries,labelSeries)\n",
    "\n",
    "    predict = svm.predict(dataTest)\n",
    "    svm_score = svm.score(dataTest, labelTest) \n",
    "    print(classification_report(labelTest,predict))\n",
    "    return svm_score"
   ]
  },
  {
   "cell_type": "code",
   "execution_count": 141,
   "metadata": {},
   "outputs": [],
   "source": [
    "def DT(data,data2):\n",
    "    train_data=[]\n",
    "    train_data.append(np.array(pd.read_csv(data[0])))\n",
    "    train_data.append(np.array(pd.read_csv(data[1])))\n",
    "\n",
    "    dataSeries = np.concatenate([train_data[0][:,1:10],train_data[1][:,1:10]])\n",
    "    labelSeries = np.concatenate([train_data[0][:,16],train_data[1][:,16]])\n",
    "\n",
    "    data2 = np.array(pd.read_csv(data2))\n",
    "    labelTest = data2[:,16]\n",
    "    dataTest = data2[:,1:10]\n",
    "\n",
    "    decisionTreeModel = DecisionTreeClassifier()\n",
    "    decisionTreeModel.fit(dataSeries, labelSeries)\n",
    "    # 使用訓練資料預測\n",
    "\n",
    "    predict= decisionTreeModel.predict(dataTest)\n",
    "    \n",
    "    DT_score = decisionTreeModel.score(dataTest,labelTest)\n",
    "    print(classification_report(labelTest,predict))\n",
    "    return DT_score"
   ]
  },
  {
   "cell_type": "code",
   "execution_count": 142,
   "metadata": {},
   "outputs": [],
   "source": [
    "def RF(data,data2):\n",
    "\n",
    "    train_data=[]\n",
    "    train_data.append(np.array(pd.read_csv(data[0])))\n",
    "    train_data.append(np.array(pd.read_csv(data[1])))\n",
    "    \n",
    "    dataSeries = np.concatenate([train_data[0][:,1:10],train_data[1][:,1:10]])\n",
    "    labelSeries = np.concatenate([train_data[0][:,16],train_data[1][:,16]])\n",
    "\n",
    "    data2 = np.array(pd.read_csv(data2))\n",
    "    labelTest = data2[:,16]\n",
    "    dataTest = data2[:,1:10]\n",
    "\n",
    "    randomForestModel = RandomForestClassifier(n_estimators=100, criterion = 'gini')\n",
    "    # 使用訓練資料訓練模型\n",
    "    randomForestModel.fit(dataSeries, labelSeries)\n",
    "    # 使用訓練資料預測\n",
    "    predict = randomForestModel.predict(dataTest)\n",
    "    RF_score = randomForestModel.score(dataTest,labelTest)\n",
    "    print(classification_report(labelTest,predict))\n",
    "    return RF_score"
   ]
  },
  {
   "cell_type": "code",
   "execution_count": 143,
   "metadata": {},
   "outputs": [
    {
     "name": "stdout",
     "output_type": "stream",
     "text": [
      "--------Support Vector Machine ---------\n",
      "              precision    recall  f1-score   support\n",
      "\n",
      "           T       0.00      0.00      0.00       451\n",
      "           W       0.68      1.00      0.81       937\n",
      "\n",
      "    accuracy                           0.68      1388\n",
      "   macro avg       0.34      0.50      0.40      1388\n",
      "weighted avg       0.46      0.68      0.54      1388\n",
      "\n",
      "Both: 0.6750720461095101\n",
      "________________________________________________________\n"
     ]
    },
    {
     "name": "stderr",
     "output_type": "stream",
     "text": [
      "c:\\Users\\user\\anaconda3\\lib\\site-packages\\sklearn\\metrics\\_classification.py:1221: UndefinedMetricWarning: Precision and F-score are ill-defined and being set to 0.0 in labels with no predicted samples. Use `zero_division` parameter to control this behavior.\n",
      "  _warn_prf(average, modifier, msg_start, len(result))\n"
     ]
    }
   ],
   "source": [
    "# Support Vector Machine支援向量機\n",
    "print(\"--------Support Vector Machine ---------\")\n",
    "print(\"Both:\",SVM(data0510,data0510[2]))\n",
    "print(\"________________________________________________________\")"
   ]
  },
  {
   "cell_type": "code",
   "execution_count": 144,
   "metadata": {},
   "outputs": [
    {
     "name": "stdout",
     "output_type": "stream",
     "text": [
      "--------Decision Treeeeeeeeeeeeeeeeeeeeeeeeeeeeeeeeee---------\n",
      "              precision    recall  f1-score   support\n",
      "\n",
      "           T       0.26      0.27      0.26       451\n",
      "           W       0.64      0.62      0.63       937\n",
      "\n",
      "    accuracy                           0.51      1388\n",
      "   macro avg       0.45      0.45      0.45      1388\n",
      "weighted avg       0.52      0.51      0.51      1388\n",
      "\n",
      "Both: 0.5086455331412104\n",
      "________________________________________________________\n"
     ]
    }
   ],
   "source": [
    "# Decision Treeeeeeeeeeeeeeeeeeeeeeeeeeeeeeeeee決策樹\n",
    "print(\"--------Decision Treeeeeeeeeeeeeeeeeeeeeeeeeeeeeeeeee---------\")\n",
    "print(\"Both:\",DT(data0510,data0510[2]))\n",
    "print(\"________________________________________________________\")"
   ]
  },
  {
   "cell_type": "code",
   "execution_count": 145,
   "metadata": {},
   "outputs": [
    {
     "name": "stdout",
     "output_type": "stream",
     "text": [
      "--------Random Forest---------\n",
      "              precision    recall  f1-score   support\n",
      "\n",
      "           T       0.28      0.27      0.27       451\n",
      "           W       0.65      0.66      0.66       937\n",
      "\n",
      "    accuracy                           0.54      1388\n",
      "   macro avg       0.47      0.47      0.47      1388\n",
      "weighted avg       0.53      0.54      0.53      1388\n",
      "\n",
      "Both: 0.5353025936599424\n",
      "________________________________________________________\n"
     ]
    }
   ],
   "source": [
    "# Random Forest隨機森林\n",
    "print(\"--------Random Forest---------\")\n",
    "print(\"Both:\",RF(data0510,data0510[2]))\n",
    "print(\"________________________________________________________\")"
   ]
  }
 ],
 "metadata": {
  "interpreter": {
   "hash": "a077222d77dfe082b8f1dd562ad70e458ac2ab76993a0b248ab0476e32e9e8dd"
  },
  "kernelspec": {
   "display_name": "Python 3.8.3 ('base')",
   "language": "python",
   "name": "python3"
  },
  "language_info": {
   "codemirror_mode": {
    "name": "ipython",
    "version": 3
   },
   "file_extension": ".py",
   "mimetype": "text/x-python",
   "name": "python",
   "nbconvert_exporter": "python",
   "pygments_lexer": "ipython3",
   "version": "3.8.3"
  },
  "orig_nbformat": 4
 },
 "nbformat": 4,
 "nbformat_minor": 2
}
