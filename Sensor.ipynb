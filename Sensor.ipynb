{
 "cells": [
  {
   "cell_type": "code",
   "execution_count": 64,
   "metadata": {
    "scrolled": true
   },
   "outputs": [
    {
     "name": "stdout",
     "output_type": "stream",
     "text": [
      "       Xg     Yg     Zg      Xm     Ym      Zm\n",
      "0    0.00   0.01  -0.01  -22.00  25.62  -14.19\n",
      "1   -0.00  -0.01   0.03  -22.00  25.62  -14.19\n",
      "2   -0.00  -0.01   0.03  -21.62  25.31  -15.75\n",
      "3    0.00   0.02  -0.04  -21.62  25.31  -15.75\n",
      "4    0.00   0.02  -0.04  -21.62  23.44  -16.56\n",
      "5   -0.00  -0.03   0.09  -21.62  23.44  -16.56\n",
      "6   -0.00  -0.03   0.09  -21.62  24.56  -14.19\n",
      "7   -0.00   0.01  -0.03  -21.62  24.56  -14.19\n",
      "8   -0.00   0.01  -0.03  -20.87  23.81  -14.19\n",
      "9   -0.01   0.00   0.01  -20.87  23.81  -14.19\n",
      "10  -0.01   0.00   0.01  -20.12  24.56  -14.19\n",
      "11  -0.01   0.01  -0.00  -20.12  24.56  -14.19\n",
      "12  -0.01   0.01  -0.00  -21.25  25.31  -15.00\n",
      "13   0.00   0.02  -0.04  -21.25  25.31  -15.00\n",
      "14   0.00   0.02  -0.04  -20.12  24.56  -15.75\n",
      "15   0.00  -0.03   0.07  -20.12  24.56  -15.75\n",
      "16   0.00  -0.03   0.07  -20.12  25.31  -15.75\n",
      "17   0.00   0.02  -0.06  -20.12  25.31  -15.75\n",
      "18   0.00   0.02  -0.06  -21.25  25.31  -14.19\n",
      "19  -0.00   0.00  -0.00  -21.25  25.31  -14.19\n",
      "20  -0.00   0.00  -0.00  -22.00  24.94  -15.00\n",
      "21   0.00  -0.01   0.03  -22.00  24.94  -15.00\n",
      "22   0.00  -0.01   0.03  -21.25  24.56  -14.19\n",
      "23   0.00   0.01  -0.04  -21.25  24.56  -14.19\n",
      "24   0.00   0.01  -0.04  -21.25  24.19  -13.81\n",
      "25  -0.01  -0.00   0.01  -21.25  24.19  -13.81\n",
      "26  -0.01  -0.00   0.01  -22.00  24.94  -15.00\n",
      "27   0.00  -0.00   0.01  -22.00  24.94  -15.00\n",
      "28   0.00  -0.00   0.01  -20.87  25.31  -14.19\n",
      "29   0.00   0.01  -0.02  -20.87  25.31  -14.19\n",
      "30   0.00   0.01  -0.02  -20.87  24.56  -15.75\n",
      "31   0.00   0.00  -0.00  -20.87  24.56  -15.75\n",
      "32   0.00   0.00  -0.00  -20.87  24.94  -15.00\n",
      "33   0.00  -0.03   0.05  -20.87  24.94  -15.00\n",
      "34   0.00  -0.03   0.05  -21.25  24.56  -14.19\n",
      "35  -0.00   0.02  -0.04  -21.25  24.56  -14.19\n",
      "36  -0.00   0.02  -0.04  -21.25  24.19  -15.75\n",
      "37   0.00   0.01  -0.04  -21.25  24.19  -15.75\n",
      "38   0.00   0.01  -0.04  -22.00  23.81  -15.00\n",
      "39   0.00  -0.03   0.06  -22.00  23.81  -15.00\n"
     ]
    }
   ],
   "source": [
    "import serial\n",
    "import csv\n",
    "import pandas as pd\n",
    "from time import sleep\n",
    "serialPort = serial.Serial(port='COM8', baudrate=115200, timeout=2, parity=serial.PARITY_EVEN, stopbits=1)\n",
    "#/dev/cu.name\n",
    "size = 1024\n",
    "xg =[]\n",
    "yg =[]\n",
    "zg =[]\n",
    "mx =[]\n",
    "my =[]\n",
    "mz =[]\n",
    "for i in range (0,40):\n",
    "    serialPort.write(\"csdcsdc\\n\".encode('utf-8'))\n",
    "#     sleep(1)\n",
    "    data = serialPort.readline().decode('utf-8')\n",
    "\n",
    "    data=data.split(',')\n",
    "    if len(data)==7:\n",
    "        mx.append(data[0])\n",
    "        my.append(data[1])\n",
    "        mz.append(data[2])\n",
    "        xg.append(data[3])\n",
    "        yg.append(data[4])\n",
    "        zg.append(data[5])\n",
    "pandasData={\"Xg\":xg,\"Yg\":yg,\"Zg\":zg,\"Xm\":mx,\"Ym\":my,\"Zm\":mz}\n",
    "df = pd.DataFrame(pandasData)\n",
    "print(df)\n",
    "df.to_csv('output.csv')\n",
    "serialPort.close()"
   ]
  },
  {
   "cell_type": "code",
   "execution_count": null,
   "metadata": {},
   "outputs": [],
   "source": []
  },
  {
   "cell_type": "code",
   "execution_count": null,
   "metadata": {},
   "outputs": [],
   "source": []
  },
  {
   "cell_type": "code",
   "execution_count": null,
   "metadata": {},
   "outputs": [],
   "source": []
  },
  {
   "cell_type": "code",
   "execution_count": null,
   "metadata": {},
   "outputs": [],
   "source": []
  }
 ],
 "metadata": {
  "kernelspec": {
   "display_name": "Python 3",
   "language": "python",
   "name": "python3"
  },
  "language_info": {
   "codemirror_mode": {
    "name": "ipython",
    "version": 3
   },
   "file_extension": ".py",
   "mimetype": "text/x-python",
   "name": "python",
   "nbconvert_exporter": "python",
   "pygments_lexer": "ipython3",
   "version": "3.8.3"
  }
 },
 "nbformat": 4,
 "nbformat_minor": 4
}
