{
 "cells": [
  {
   "cell_type": "code",
   "execution_count": 2,
   "metadata": {},
   "outputs": [],
   "source": [
    "data0506 = [\n",
    "            \"../All_Data/new_data/手2022-05-06 114900-4.csv\",\n",
    "            \"../All_Data/new_data/手2022-05-06 113600-3.csv\",\n",
    "            \"../All_Data/new_data/手2022-05-06 115200-2.csv\",\n",
    "            \"../All_Data/new_data/腳2022-05-06 120000-4.csv\",\n",
    "            \"../All_Data/new_data/腳2022-05-06 120300-3.csv\",\n",
    "            \"../All_Data/new_data/腳2022-05-06 120500-4.csv\"]\n",
    "\n",
    "data0510 = [\n",
    "            \"../All_Data/0510data/手2022-05-10 103600.csv\",\n",
    "            \"../All_Data/0510data/手2022-05-10 103800.csv\",\n",
    "            \"../All_Data/0510data/手2022-05-10 104000.csv\",\n",
    "            \"../All_Data/0510data/腳2022-05-10 103600.csv\",\n",
    "            \"../All_Data/0510data/腳2022-05-10 103800.csv\",\n",
    "            \"../All_Data/0510data/腳2022-05-10 104000.csv\"]\n",
    "\n",
    "testTwoData=[\"手2022-05-10 104000.csv\",\"腳2022-05-10 104000.csv\"]\n",
    "\n",
    "\n",
    "dataCSV=[\n",
    "   \n",
    "\"../All_Data/finish/手2022-05-31 112100.csv\",\n",
    "\"../All_Data/finish/手2022-05-31 112600.csv\",\n",
    "\"../All_Data/finish/手2022-05-31 113000.csv\",\n",
    "\"../All_Data/finish/手2022-05-31 113400.csv\",\n",
    "\"../All_Data/finish/手2022-05-31 113600.csv\",\n",
    "\"../All_Data/finish/手2022-05-31 114800.csv\",\n",
    "\"../All_Data/finish/手2022-05-31 115100.csv\",\n",
    "\"../All_Data/finish/手2022-05-31 115600.csv\",\n",
    "\"../All_Data/finish/手2022-05-31 115900.csv\",\n",
    "\n",
    "\n",
    "\n",
    "\n",
    "\"../All_Data/finish/腳2022-05-31 112100.csv\",\n",
    "\"../All_Data/finish/腳2022-05-31 112600.csv\",\n",
    "\"../All_Data/finish/腳2022-05-31 113000.csv\",\n",
    "\"../All_Data/finish/腳2022-05-31 113400.csv\",\n",
    "\n",
    "\"../All_Data/finish/腳2022-05-31 113600.csv\",\n",
    "\n",
    "\"../All_Data/finish/腳2022-05-31 114800.csv\",\n",
    "\n",
    "\"../All_Data/finish/腳2022-05-31 115100.csv\",\n",
    "\n",
    "\"../All_Data/finish/腳2022-05-31 115600.csv\",\n",
    "\n",
    "\"../All_Data/finish/腳2022-05-31 115900.csv\",\n",
    "\n",
    "\n",
    "  \n",
    "]"
   ]
  },
  {
   "cell_type": "code",
   "execution_count": 4,
   "metadata": {},
   "outputs": [],
   "source": [
    "import pandas as pd\n",
    "import csv\n",
    "import numpy as np\n",
    "from sklearn.model_selection import train_test_split\n",
    "from sklearn.svm import SVC\n",
    "from sklearn.metrics import classification_report\n",
    "from sklearn.tree import DecisionTreeClassifier\n",
    "from sklearn.ensemble import RandomForestClassifier\n",
    "\n",
    "np.random.seed(202205456)"
   ]
  },
  {
   "cell_type": "code",
   "execution_count": 8,
   "metadata": {},
   "outputs": [],
   "source": [
    "def SVM(data,data2):     \n",
    "    train_data=[]\n",
    "    train_data.append(np.array(pd.read_csv(data)))\n",
    "    train_data.append(np.array(pd.read_csv(data2)))\n",
    "\n",
    "    labelTemp=[]\n",
    "    for i in range(len(train_data[0][:,16])):\n",
    "        labelTemp.append(train_data[0][i,16]+train_data[1][i,16])\n",
    "\n",
    "    labelSeries = np.array(labelTemp)\n",
    "\n",
    "    dataTemp=[]\n",
    "    for i in range(len(train_data[0][:,16])):\n",
    "        dataTemp.append(list(train_data[0][i,1:4]) +list(train_data[0][i,7:10])+ list(train_data[1][i,1:4])+list(train_data[1][i,7:10]))\n",
    "    dataSeries = np.array(dataTemp)\n",
    "\n",
    "    print(dataSeries)\n",
    "    print(labelSeries)\n",
    "    x_train, x_test, y_train, y_test = train_test_split(dataSeries, labelSeries,test_size=0.15, random_state=222123123)\n",
    "\n",
    "\n",
    "    svm = SVC(kernel=\"rbf\",gamma = 0.5, probability=True)\n",
    "    svm.fit(x_train,y_train)\n",
    "\n",
    "    predict = svm.predict(x_test)\n",
    "    svm_score = svm.score(x_test, y_test) \n",
    "    print(classification_report(y_test,predict))\n",
    "    return svm_score"
   ]
  },
  {
   "cell_type": "code",
   "execution_count": 9,
   "metadata": {},
   "outputs": [
    {
     "name": "stdout",
     "output_type": "stream",
     "text": [
      "[[ 0.03  0.04  0.   ... -9.24 -3.    0.16]\n",
      " [ 0.02  0.04  0.   ... -9.24 -3.    0.2 ]\n",
      " [ 0.02  0.04  0.   ... -9.24 -3.    0.16]\n",
      " ...\n",
      " [ 1.55 -1.    2.57 ... -9.2  -3.34 -0.11]\n",
      " [ 1.75 -0.75  3.06 ... -9.16 -3.3  -0.03]\n",
      " [ 1.75 -0.75  3.06 ... -9.24 -3.27  0.  ]]\n",
      "['HTFT' 'HTFT' 'HTFT' ... 'HWFW' 'HWFW' 'HWFW']\n",
      "              precision    recall  f1-score   support\n",
      "\n",
      "        HTFT       0.87      0.76      0.81        34\n",
      "        HTFW       1.00      0.34      0.51        35\n",
      "        HWFT       0.95      0.80      0.87        45\n",
      "        HWFW       0.73      0.99      0.84        95\n",
      "\n",
      "    accuracy                           0.80       209\n",
      "   macro avg       0.89      0.72      0.76       209\n",
      "weighted avg       0.84      0.80      0.79       209\n",
      "\n"
     ]
    },
    {
     "data": {
      "text/plain": [
       "0.8038277511961722"
      ]
     },
     "execution_count": 9,
     "metadata": {},
     "output_type": "execute_result"
    }
   ],
   "source": [
    "SVM(testTwoData[0],testTwoData[1])"
   ]
  },
  {
   "cell_type": "code",
   "execution_count": 49,
   "metadata": {},
   "outputs": [
    {
     "name": "stdout",
     "output_type": "stream",
     "text": [
      "[[ 1.000e-02  3.000e-02 -1.000e-02 -8.400e-01  9.870e+00  3.200e-01]\n",
      " [ 1.000e-02  3.000e-02 -1.000e-02 -8.400e-01  1.006e+01  3.600e-01]\n",
      " [ 0.000e+00  6.000e-02  2.000e-02 -8.400e-01  1.006e+01  3.600e-01]\n",
      " ...\n",
      " [-1.200e-01 -2.400e-01  5.000e-02  1.410e+00  8.450e+00  9.700e-01]\n",
      " [-1.200e-01 -2.400e-01  5.000e-02  1.610e+00  8.530e+00  1.240e+00]\n",
      " [-1.200e-01 -2.400e-01  5.000e-02  1.950e+00  8.720e+00  1.630e+00]]\n",
      "['T' 'T' 'T' ... 'W' 'W' 'W']\n",
      "              precision    recall  f1-score   support\n",
      "\n",
      "           T       0.79      0.23      0.36       407\n",
      "           W       0.75      0.97      0.84       937\n",
      "\n",
      "    accuracy                           0.75      1344\n",
      "   macro avg       0.77      0.60      0.60      1344\n",
      "weighted avg       0.76      0.75      0.70      1344\n",
      "\n"
     ]
    },
    {
     "data": {
      "text/plain": [
       "0.7492559523809523"
      ]
     },
     "execution_count": 49,
     "metadata": {},
     "output_type": "execute_result"
    }
   ],
   "source": [
    "def SVM2file(data,data2):     \n",
    "    train_data=[]\n",
    "    train_data.append(np.array(pd.read_csv(data)))\n",
    "\n",
    "\n",
    "    labelTemp=[]\n",
    "    for i in range(len(train_data[0][:,16])):\n",
    "        labelTemp.append(train_data[0][i,16])\n",
    "\n",
    "    labelSeries = np.array(labelTemp)\n",
    "\n",
    "    dataTemp=[]\n",
    "    for i in range(len(train_data[0][:,16])):\n",
    "        dataTemp.append(list(train_data[0][i,1:4]) +list(train_data[0][i,7:10]))\n",
    "    dataSeries = np.array(dataTemp)\n",
    "\n",
    "    print(dataSeries)\n",
    "    print(labelSeries)\n",
    "    x_train, x_test, y_train, y_test = train_test_split(dataSeries, labelSeries,test_size=0.15, random_state=222123123)\n",
    "\n",
    "\n",
    "    svm = SVC(kernel=\"rbf\",gamma = 0.5, probability=True)\n",
    "    svm.fit(x_train,y_train)\n",
    "\n",
    "    test = pd.read_csv(dataCSV[0])\n",
    "    test = np.array(test)\n",
    "    betest=[]\n",
    "    betestLabel=[]\n",
    "    for i in range(len(test)):\n",
    "        betest.append(list(test[i][1:4]) +list(test[i][7:10]))\n",
    "        betestLabel.append(test[i][16])\n",
    "\n",
    "    predict = svm.predict(betest)\n",
    "    svm_score = svm.score(betest, betestLabel) \n",
    "    print(classification_report(betestLabel,predict))\n",
    "    return svm_score\n",
    "\n",
    "SVM2file(dataCSV[3],dataCSV[4])"
   ]
  },
  {
   "cell_type": "code",
   "execution_count": 37,
   "metadata": {},
   "outputs": [],
   "source": [
    "test = pd.read_csv(dataCSV[0])\n",
    "test = np.array(test)\n",
    "# print(data[0][0:14])\n",
    "# print(data[0:])\n",
    "# print(len(data))\n",
    "dataTemp2=[]\n",
    "for i in range(len(test)):\n",
    "    dataTemp2.append(list(test[i][1:4]) +list(test[i][7:10]))\n",
    "\n",
    "# print(dataTemp)    \n"
   ]
  },
  {
   "cell_type": "code",
   "execution_count": null,
   "metadata": {},
   "outputs": [],
   "source": []
  }
 ],
 "metadata": {
  "interpreter": {
   "hash": "a9b4500a64cdd468ae277a4a17aeb127f09536bb33390348045dff059b4b55d4"
  },
  "kernelspec": {
   "display_name": "Python 3.9.7 ('base')",
   "language": "python",
   "name": "python3"
  },
  "language_info": {
   "codemirror_mode": {
    "name": "ipython",
    "version": 3
   },
   "file_extension": ".py",
   "mimetype": "text/x-python",
   "name": "python",
   "nbconvert_exporter": "python",
   "pygments_lexer": "ipython3",
   "version": "3.9.7"
  },
  "orig_nbformat": 4
 },
 "nbformat": 4,
 "nbformat_minor": 2
}
