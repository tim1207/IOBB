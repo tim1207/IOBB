{
 "cells": [
  {
   "cell_type": "code",
   "execution_count": 1,
   "metadata": {},
   "outputs": [
    {
     "name": "stdout",
     "output_type": "stream",
     "text": [
      "3.9.7 (default, Sep 16 2021, 08:50:36) \n",
      "[Clang 10.0.0 ]\n"
     ]
    }
   ],
   "source": [
    "import sys\n",
    "print(sys.version)"
   ]
  },
  {
   "cell_type": "code",
   "execution_count": 2,
   "metadata": {},
   "outputs": [
    {
     "name": "stdout",
     "output_type": "stream",
     "text": [
      "3.4.17\n"
     ]
    }
   ],
   "source": [
    "import cv2\n",
    "print(cv2.__version__)"
   ]
  },
  {
   "cell_type": "code",
   "execution_count": 1,
   "metadata": {},
   "outputs": [
    {
     "ename": "ModuleNotFoundError",
     "evalue": "No module named 'cv2'",
     "output_type": "error",
     "traceback": [
      "\u001b[0;31m---------------------------------------------------------------------------\u001b[0m",
      "\u001b[0;31mModuleNotFoundError\u001b[0m                       Traceback (most recent call last)",
      "\u001b[1;32m/Users/linjunting/Downloads/新增包含項目的檔案夾/CSV轉圖.ipynb Cell 1'\u001b[0m in \u001b[0;36m<cell line: 1>\u001b[0;34m()\u001b[0m\n\u001b[0;32m----> <a href='vscode-notebook-cell:/Users/linjunting/Downloads/%E6%96%B0%E5%A2%9E%E5%8C%85%E5%90%AB%E9%A0%85%E7%9B%AE%E7%9A%84%E6%AA%94%E6%A1%88%E5%A4%BE/CSV%E8%BD%89%E5%9C%96.ipynb#ch0000000?line=0'>1</a>\u001b[0m \u001b[39mimport\u001b[39;00m \u001b[39mcv2\u001b[39;00m\n\u001b[1;32m      <a href='vscode-notebook-cell:/Users/linjunting/Downloads/%E6%96%B0%E5%A2%9E%E5%8C%85%E5%90%AB%E9%A0%85%E7%9B%AE%E7%9A%84%E6%AA%94%E6%A1%88%E5%A4%BE/CSV%E8%BD%89%E5%9C%96.ipynb#ch0000000?line=1'>2</a>\u001b[0m \u001b[39mimport\u001b[39;00m \u001b[39mnumpy\u001b[39;00m \u001b[39mas\u001b[39;00m \u001b[39mnp\u001b[39;00m\n\u001b[1;32m      <a href='vscode-notebook-cell:/Users/linjunting/Downloads/%E6%96%B0%E5%A2%9E%E5%8C%85%E5%90%AB%E9%A0%85%E7%9B%AE%E7%9A%84%E6%AA%94%E6%A1%88%E5%A4%BE/CSV%E8%BD%89%E5%9C%96.ipynb#ch0000000?line=2'>3</a>\u001b[0m \u001b[39mimport\u001b[39;00m \u001b[39mmatplotlib\u001b[39;00m\u001b[39m.\u001b[39;00m\u001b[39mpyplot\u001b[39;00m \u001b[39mas\u001b[39;00m \u001b[39mplt\u001b[39;00m\n",
      "\u001b[0;31mModuleNotFoundError\u001b[0m: No module named 'cv2'"
     ]
    }
   ],
   "source": [
    "import cv2\n",
    "import numpy as np\n",
    "import matplotlib.pyplot as plt\n",
    "import pandas as pd\n",
    "\n",
    "img = cv2.imread(\"./IMG_7453.JPG\") #引入照片\n",
    "img2 = cv2.cvtColor(img,cv2.COLOR_BGR2GRAY) #轉換成灰階\n",
    "# print(img)\n",
    "filename =  \"./CSV圖圖/camera2022-07-02 020017.csv\"\n",
    "data = pd.read_csv(filename)\n",
    "data =np.array(data)\n",
    "data1 = []\n",
    "for i in range (320):\n",
    "    data1.append([])\n",
    "for i in range (len(data)):\n",
    "    for j in range(len(data[i])):\n",
    "        if (pd.isnull(data[i][j])):\n",
    "            data1[i].append(int(0))\n",
    "        else:\n",
    "#             print(i,j)\n",
    "#             print(data[i][j])\n",
    "            data1[i].append(int(data[i][j]))\n",
    "# data = data.reshape((777,193)).astype('float32')\n",
    "# data = cv2.resize(data , (320,240) ,interpolation = cv2.INTER_CUBIC)\n",
    "# with open(filename,'r', encoding=\"utf-8\") as f:\n",
    "#     for line in f.readlines():\n",
    "#          print(line)\n",
    "print(\"123\")\n",
    "# print(data1)\n",
    "\n",
    "# img3 = cv2.equalizeHist(img2) #增強影像\n",
    "# clahe = cv2.createCLAHE(clipLimit=30.0,tileGridSize=(3, 3)) #增強影像的參數\n",
    "# img3 = clahe.apply(img2) #另一種增強影像的方法\n",
    "# img3 = cv2.calcHist([img2], [0], None, [256], [0, 255]) #另一種增強影像的方法\n",
    "# img4 = cv2.bilateralFilter(img3,3,100,300) #去除雜訊\n",
    "# img4 = cv2.GaussianBlur(img10,(5,5),0) #另一種去除雜訊的方法\n",
    "# _, img5 = cv2.threshold(img4,198,255,cv2.THRESH_BINARY) #二值化\n",
    "# kernel = np.ones((5,3),np.uint8) #設定 kernel參數\n",
    "# img6 = cv2.morphologyEx(img5,cv2.MORPH_OPEN,kernel) #形態學\n",
    "# img7 = cv2.Canny(img6,30,60) #邊緣檢測\n",
    "# lines = cv2.HoughLinesP(img7,0.55,np.pi/180,70 ,None,90,1) #製作線條座標的條件\n",
    "# for line in lines: \n",
    "#     for x1,y1,x2,y2 in line:\n",
    "#         cv2.line(img,(x1,y1),(x2,y2),(0,0,255),10) #製作線條\n",
    "cv2.imshow(\"origin\",data) #化完線的照片\n",
    "cv2.imwrite('./IMG_745338.JPG', data, [cv2.IMWRITE_JPEG_QUALITY, 100])\n",
    "cv2.imshow(\"test2\",img2) #灰階\n",
    "# cv2.imshow(\"test3\",img3) #增強影像\n",
    "# cv2.imshow(\"test4\",img4) #去除雜訊\n",
    "# cv2.imshow(\"test5\",img5) #二值化\n",
    "# cv2.imshow(\"test6\",img6) #形態學\n",
    "# cv2.imshow(\"test7\",img7) #邊緣檢測\n",
    "# cv2.waitKey(0)\n",
    "cv2.destroyAllWindows()"
   ]
  },
  {
   "cell_type": "code",
   "execution_count": 2,
   "metadata": {},
   "outputs": [
    {
     "name": "stdout",
     "output_type": "stream",
     "text": [
      "Defaulting to user installation because normal site-packages is not writeable\n",
      "Collecting opencv-python\n",
      "  Downloading opencv-python-4.6.0.66.tar.gz (90.3 MB)\n",
      "\u001b[K     |████████████████████████████████| 90.3 MB 2.3 kB/s eta 0:00:01\n",
      "\u001b[?25h  Installing build dependencies ... \u001b[?25lerror\n",
      "\u001b[31m  ERROR: Command errored out with exit status 1:\n",
      "   command: /Library/Developer/CommandLineTools/usr/bin/python3 /Library/Developer/CommandLineTools/Library/Frameworks/Python3.framework/Versions/3.8/lib/python3.8/site-packages/pip install --ignore-installed --no-user --prefix /private/var/folders/nn/k75mfp3946lf7jzz8pdhmkyr0000gn/T/pip-build-env-231o87gs/overlay --no-warn-script-location --no-binary :none: --only-binary :none: -i https://pypi.org/simple -- setuptools==59.2.0 wheel==0.37.0 'cmake>=3.1' pip 'scikit-build>=0.13.2' 'numpy==1.13.3; python_version=='\"'\"'3.6'\"'\"' and platform_machine != '\"'\"'aarch64'\"'\"' and platform_machine != '\"'\"'arm64'\"'\"'' 'numpy==1.14.5; python_version=='\"'\"'3.7'\"'\"' and platform_machine != '\"'\"'aarch64'\"'\"' and platform_machine != '\"'\"'arm64'\"'\"'' 'numpy==1.17.3; python_version=='\"'\"'3.8'\"'\"' and platform_machine != '\"'\"'aarch64'\"'\"' and platform_machine != '\"'\"'arm64'\"'\"'' 'numpy==1.19.3; python_version<='\"'\"'3.9'\"'\"' and sys_platform == '\"'\"'linux'\"'\"' and platform_machine == '\"'\"'aarch64'\"'\"'' 'numpy==1.21.0; python_version<='\"'\"'3.9'\"'\"' and sys_platform == '\"'\"'darwin'\"'\"' and platform_machine == '\"'\"'arm64'\"'\"'' 'numpy==1.19.3; python_version=='\"'\"'3.9'\"'\"' and platform_machine != '\"'\"'aarch64'\"'\"' and platform_machine != '\"'\"'arm64'\"'\"'' 'numpy==1.21.2; python_version>='\"'\"'3.10'\"'\"''\n",
      "       cwd: None\n",
      "  Complete output (60 lines):\n",
      "  Ignoring numpy: markers 'python_version == \"3.6\" and platform_machine != \"aarch64\" and platform_machine != \"arm64\"' don't match your environment\n",
      "  Ignoring numpy: markers 'python_version == \"3.7\" and platform_machine != \"aarch64\" and platform_machine != \"arm64\"' don't match your environment\n",
      "  Ignoring numpy: markers 'python_version <= \"3.9\" and sys_platform == \"linux\" and platform_machine == \"aarch64\"' don't match your environment\n",
      "  Ignoring numpy: markers 'python_version <= \"3.9\" and sys_platform == \"darwin\" and platform_machine == \"arm64\"' don't match your environment\n",
      "  Ignoring numpy: markers 'python_version == \"3.9\" and platform_machine != \"aarch64\" and platform_machine != \"arm64\"' don't match your environment\n",
      "  Ignoring numpy: markers 'python_version >= \"3.10\"' don't match your environment\n",
      "  Collecting setuptools==59.2.0\n",
      "    Downloading setuptools-59.2.0-py3-none-any.whl (952 kB)\n",
      "  Collecting wheel==0.37.0\n",
      "    Downloading wheel-0.37.0-py2.py3-none-any.whl (35 kB)\n",
      "  Collecting cmake>=3.1\n",
      "    Downloading cmake-3.22.5.tar.gz (31 kB)\n",
      "    Installing build dependencies: started\n",
      "    Installing build dependencies: finished with status 'done'\n",
      "    Getting requirements to build wheel: started\n",
      "    Getting requirements to build wheel: finished with status 'done'\n",
      "      Preparing wheel metadata: started\n",
      "      Preparing wheel metadata: finished with status 'done'\n",
      "  Collecting pip\n",
      "    Downloading pip-22.1.2-py3-none-any.whl (2.1 MB)\n",
      "  Collecting scikit-build>=0.13.2\n",
      "    Using cached scikit_build-0.15.0-py2.py3-none-any.whl (77 kB)\n",
      "  Collecting numpy==1.17.3\n",
      "    Using cached numpy-1.17.3.zip (6.4 MB)\n",
      "  Collecting distro\n",
      "    Using cached distro-1.7.0-py3-none-any.whl (20 kB)\n",
      "  Collecting packaging\n",
      "    Using cached packaging-21.3-py3-none-any.whl (40 kB)\n",
      "  Collecting pyparsing!=3.0.5,>=2.0.2\n",
      "    Using cached pyparsing-3.0.9-py3-none-any.whl (98 kB)\n",
      "  Building wheels for collected packages: cmake, numpy\n",
      "    Building wheel for cmake (PEP 517): started\n",
      "    Building wheel for cmake (PEP 517): finished with status 'error'\n",
      "    ERROR: Command errored out with exit status 1:\n",
      "     command: /Library/Developer/CommandLineTools/usr/bin/python3 /Library/Developer/CommandLineTools/Library/Frameworks/Python3.framework/Versions/3.8/lib/python3.8/site-packages/pip/_vendor/pep517/_in_process.py build_wheel /var/folders/nn/k75mfp3946lf7jzz8pdhmkyr0000gn/T/tmpvp5safgm\n",
      "         cwd: /private/var/folders/nn/k75mfp3946lf7jzz8pdhmkyr0000gn/T/pip-install-ylxqhfvk/cmake\n",
      "    Complete output (9 lines):\n",
      "    Traceback (most recent call last):\n",
      "      File \"/private/var/folders/nn/k75mfp3946lf7jzz8pdhmkyr0000gn/T/pip-build-env-d3kuwz9d/overlay/lib/python3.8/site-packages/skbuild/setuptools_wrap.py\", line 613, in setup\n",
      "        cmkr = cmaker.CMaker(cmake_executable)\n",
      "      File \"/private/var/folders/nn/k75mfp3946lf7jzz8pdhmkyr0000gn/T/pip-build-env-d3kuwz9d/overlay/lib/python3.8/site-packages/skbuild/cmaker.py\", line 141, in __init__\n",
      "        self.cmake_version = get_cmake_version(self.cmake_executable)\n",
      "      File \"/private/var/folders/nn/k75mfp3946lf7jzz8pdhmkyr0000gn/T/pip-build-env-d3kuwz9d/overlay/lib/python3.8/site-packages/skbuild/cmaker.py\", line 95, in get_cmake_version\n",
      "        raise SKBuildError(\n",
      "  \n",
      "    Problem with the CMake installation, aborting build. CMake executable is cmake\n",
      "    ----------------------------------------\n",
      "    ERROR: Failed building wheel for cmake\n",
      "    Building wheel for numpy (setup.py): started\n",
      "    Building wheel for numpy (setup.py): still running...\n",
      "    Building wheel for numpy (setup.py): still running...\n",
      "    Building wheel for numpy (setup.py): still running...\n",
      "    Building wheel for numpy (setup.py): finished with status 'done'\n",
      "    Created wheel for numpy: filename=numpy-1.17.3-cp38-cp38-macosx_12_0_x86_64.whl size=6430414 sha256=4b688734b5fd1762a2ecdbf3d05bfb70298f3365003c31cf1ba86e97ca200bdd\n",
      "    Stored in directory: /Users/linjunting/Library/Caches/pip/wheels/aa/67/93/1a3eb3ad40a08a0cc44ce3da7bfcad685c04afba45b7e72589\n",
      "  Successfully built numpy\n",
      "  Failed to build cmake\n",
      "  ERROR: Could not build wheels for cmake which use PEP 517 and cannot be installed directly\n",
      "  WARNING: You are using pip version 20.2.3; however, version 22.1.2 is available.\n",
      "  You should consider upgrading via the '/Library/Developer/CommandLineTools/usr/bin/python3 -m pip install --upgrade pip' command.\n",
      "  ----------------------------------------\u001b[0m\n",
      "\u001b[?25h\u001b[31mERROR: Command errored out with exit status 1: /Library/Developer/CommandLineTools/usr/bin/python3 /Library/Developer/CommandLineTools/Library/Frameworks/Python3.framework/Versions/3.8/lib/python3.8/site-packages/pip install --ignore-installed --no-user --prefix /private/var/folders/nn/k75mfp3946lf7jzz8pdhmkyr0000gn/T/pip-build-env-231o87gs/overlay --no-warn-script-location --no-binary :none: --only-binary :none: -i https://pypi.org/simple -- setuptools==59.2.0 wheel==0.37.0 'cmake>=3.1' pip 'scikit-build>=0.13.2' 'numpy==1.13.3; python_version=='\"'\"'3.6'\"'\"' and platform_machine != '\"'\"'aarch64'\"'\"' and platform_machine != '\"'\"'arm64'\"'\"'' 'numpy==1.14.5; python_version=='\"'\"'3.7'\"'\"' and platform_machine != '\"'\"'aarch64'\"'\"' and platform_machine != '\"'\"'arm64'\"'\"'' 'numpy==1.17.3; python_version=='\"'\"'3.8'\"'\"' and platform_machine != '\"'\"'aarch64'\"'\"' and platform_machine != '\"'\"'arm64'\"'\"'' 'numpy==1.19.3; python_version<='\"'\"'3.9'\"'\"' and sys_platform == '\"'\"'linux'\"'\"' and platform_machine == '\"'\"'aarch64'\"'\"'' 'numpy==1.21.0; python_version<='\"'\"'3.9'\"'\"' and sys_platform == '\"'\"'darwin'\"'\"' and platform_machine == '\"'\"'arm64'\"'\"'' 'numpy==1.19.3; python_version=='\"'\"'3.9'\"'\"' and platform_machine != '\"'\"'aarch64'\"'\"' and platform_machine != '\"'\"'arm64'\"'\"'' 'numpy==1.21.2; python_version>='\"'\"'3.10'\"'\"'' Check the logs for full command output.\u001b[0m\n",
      "\u001b[33mWARNING: You are using pip version 20.2.3; however, version 22.1.2 is available.\n",
      "You should consider upgrading via the '/Library/Developer/CommandLineTools/usr/bin/python3 -m pip install --upgrade pip' command.\u001b[0m\n",
      "Note: you may need to restart the kernel to use updated packages.\n"
     ]
    }
   ],
   "source": [
    "pip install opencv-python"
   ]
  },
  {
   "cell_type": "code",
   "execution_count": null,
   "metadata": {},
   "outputs": [],
   "source": []
  }
 ],
 "metadata": {
  "kernelspec": {
   "display_name": "Python 3.8.9 64-bit",
   "language": "python",
   "name": "python3"
  },
  "language_info": {
   "codemirror_mode": {
    "name": "ipython",
    "version": 3
   },
   "file_extension": ".py",
   "mimetype": "text/x-python",
   "name": "python",
   "nbconvert_exporter": "python",
   "pygments_lexer": "ipython3",
   "version": "3.8.9"
  },
  "vscode": {
   "interpreter": {
    "hash": "31f2aee4e71d21fbe5cf8b01ff0e069b9275f58929596ceb00d14d90e3e16cd6"
   }
  }
 },
 "nbformat": 4,
 "nbformat_minor": 4
}
