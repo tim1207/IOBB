{
 "cells": [
  {
   "cell_type": "code",
   "execution_count": null,
   "metadata": {},
   "outputs": [],
   "source": [
    "import serial\n",
    "import csv\n",
    "import pandas as pd\n",
    "from datetime import datetime\n",
    "from time import sleep\n",
    "serialPort = serial.Serial(port='COM7', baudrate=57600, timeout=2, parity=serial.PARITY_EVEN, stopbits=1)\n",
    "serialPort2 = serial.Serial(port='COM8', baudrate=57600, timeout=2, parity=serial.PARITY_EVEN, stopbits=1)\n",
    "#/dev/cu.name\n",
    "size = 1024\n",
    "xg,yg,zg,mx,my,mz,xa,ya,za =[],[],[],[],[],[],[],[],[]\n",
    "xg2,yg2,zg2,mx2,my2,mz2,xa2,ya2,za2 =[],[],[],[],[],[],[],[],[]\n",
    "for i in range (0,500):\n",
    "    data = serialPort.readline().decode('utf-8')\n",
    "    data2 = serialPort2.readline().decode('utf-8')\n",
    "    data=data.split(',')\n",
    "    data2=data2.split(',')\n",
    "    if len(data)==10:\n",
    "        mx.append(data[0])\n",
    "        my.append(data[1])\n",
    "        mz.append(data[2])\n",
    "        xg.append(data[3])\n",
    "        yg.append(data[4])\n",
    "        zg.append(data[5])\n",
    "        xa.append(data[6])\n",
    "        ya.append(data[7])\n",
    "        za.append(data[8])\n",
    "    if len(data2)==10:\n",
    "        mx2.append(data[0])\n",
    "        my2.append(data[1])\n",
    "        mz2.append(data[2])\n",
    "        xg2.append(data[3])\n",
    "        yg2.append(data[4])\n",
    "        zg2.append(data[5])\n",
    "        xa2.append(data[6])\n",
    "        ya2.append(data[7])\n",
    "        za2.append(data[8])\n",
    "pandasData={\"Xg\":xg,\"Yg\":yg,\"Zg\":zg,\"Xm\":mx,\"Ym\":my,\"Zm\":mz,\"Xa\":xa,\"Ya\":ya,\"Za\":za}\n",
    "pandasData2={\"Xg\":xg2,\"Yg\":yg2,\"Zg\":zg2,\"Xm\":mx2,\"Ym\":my2,\"Zm\":mz2,\"Xa\":xa2,\"Ya\":ya2,\"Za\":za2}\n",
    "df = pd.DataFrame(pandasData)\n",
    "df2 = pd.DataFrame(pandasData2)\n",
    "print(df,df2)\n",
    "df.to_csv('MEGAONE'+datetime.now().strftime('%Y-%m-%d %H%M%S')+'.csv')\n",
    "df2.to_csv('MEGATWO'+datetime.now().strftime('%Y-%m-%d %H%M%S')+'.csv')\n",
    "serialPort.close()\n",
    "serialPort2.close()"
   ]
  }
 ],
 "metadata": {
  "kernelspec": {
   "display_name": "Python 3",
   "language": "python",
   "name": "python3"
  },
  "language_info": {
   "codemirror_mode": {
    "name": "ipython",
    "version": 3
   },
   "file_extension": ".py",
   "mimetype": "text/x-python",
   "name": "python",
   "nbconvert_exporter": "python",
   "pygments_lexer": "ipython3",
   "version": "3.8.3"
  }
 },
 "nbformat": 4,
 "nbformat_minor": 4
}
