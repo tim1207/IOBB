{
 "cells": [
  {
   "cell_type": "code",
   "execution_count": 3,
   "metadata": {},
   "outputs": [],
   "source": [
    "\n",
    "dataCSV=[\n",
    "\n",
    "\n",
    "    \"../All_Data/20220408拿放資料/手2022-04-08 134400-4.csv\",\n",
    "    \"../All_Data/20220408拿放資料/手2022-04-08 134600-5.csv\",\n",
    "    \"../All_Data/20220408拿放資料/手2022-04-08 134800-4.csv\",\n",
    "    \"../All_Data/20220408拿放資料/手2022-04-08 135200-2.csv\",\n",
    "    \"../All_Data/20220408拿放資料/手2022-04-08 135400-5.csv\",\n",
    "    \"../All_Data/20220408拿放資料/手2022-04-08 135600-2.csv\",\n",
    "    \"../All_Data/20220408拿放資料/手2022-04-08 135900-6.csv\",\n",
    "    \"../All_Data/20220408拿放資料/手2022-04-08 140200-3.csv\",\n",
    "    \"../All_Data/20220408拿放資料/手2022-04-08 141200-5.csv\",\n",
    "    \"../All_Data/20220408拿放資料/手2022-04-08 141500-6.csv\",\n",
    "    \"../All_Data/20220408拿放資料/手2022-04-08 141800-4.csv\",\n",
    "    \"../All_Data/20220408拿放資料/手2022-04-08 142200-6.csv\",\n",
    "    \"../All_Data/20220408拿放資料/手2022-04-08 142500-6.csv\",\n",
    "# 0~14\n",
    "\n",
    "\n",
    "    \"../All_Data/20220408拿放資料/腳2022-04-08 134400-4.csv\",\n",
    "    \"../All_Data/20220408拿放資料/腳2022-04-08 134600-5.csv\",\n",
    "    \"../All_Data/20220408拿放資料/腳2022-04-08 134800-4.csv\",\n",
    "    \"../All_Data/20220408拿放資料/腳2022-04-08 135200-2.csv\",\n",
    "    \"../All_Data/20220408拿放資料/腳2022-04-08 135400-5.csv\",\n",
    "    \"../All_Data/20220408拿放資料/腳2022-04-08 135600-2.csv\",\n",
    "    \"../All_Data/20220408拿放資料/腳2022-04-08 135900-6.csv\",\n",
    "    \"../All_Data/20220408拿放資料/腳2022-04-08 140200-3.csv\",\n",
    "    \"../All_Data/20220408拿放資料/腳2022-04-08 141200-5.csv\",\n",
    "    \"../All_Data/20220408拿放資料/腳2022-04-08 141500-6.csv\",\n",
    "    \"../All_Data/20220408拿放資料/腳2022-04-08 141800-4.csv\",\n",
    "    \"../All_Data/20220408拿放資料/腳2022-04-08 142200-6.csv\",\n",
    "    \"../All_Data/20220408拿放資料/腳2022-04-08 142500-6.csv\",\n",
    "]\n",
    "\n",
    "\n"
   ]
  },
  {
   "cell_type": "code",
   "execution_count": 4,
   "metadata": {},
   "outputs": [
    {
     "name": "stdout",
     "output_type": "stream",
     "text": [
      "../All_Data/20220408拿放資料/手2022-04-08 134400-4.csv = 926\n",
      "../All_Data/20220408拿放資料/腳2022-04-08 134400-4.csv = 926\n",
      " \n",
      "../All_Data/20220408拿放資料/手2022-04-08 134600-5.csv = 1480\n",
      "../All_Data/20220408拿放資料/腳2022-04-08 134600-5.csv = 1479\n",
      " \n",
      "../All_Data/20220408拿放資料/手2022-04-08 134800-4.csv = 1429\n",
      "../All_Data/20220408拿放資料/腳2022-04-08 134800-4.csv = 1429\n",
      " \n",
      "../All_Data/20220408拿放資料/手2022-04-08 135200-2.csv = 933\n",
      "../All_Data/20220408拿放資料/腳2022-04-08 135200-2.csv = 933\n",
      " \n",
      "../All_Data/20220408拿放資料/手2022-04-08 135400-5.csv = 1422\n",
      "../All_Data/20220408拿放資料/腳2022-04-08 135400-5.csv = 1424\n",
      " \n",
      "../All_Data/20220408拿放資料/手2022-04-08 135600-2.csv = 949\n",
      "../All_Data/20220408拿放資料/腳2022-04-08 135600-2.csv = 950\n",
      " \n",
      "../All_Data/20220408拿放資料/手2022-04-08 135900-6.csv = 1720\n",
      "../All_Data/20220408拿放資料/腳2022-04-08 135900-6.csv = 1721\n",
      " \n",
      "../All_Data/20220408拿放資料/手2022-04-08 140200-3.csv = 1135\n",
      "../All_Data/20220408拿放資料/腳2022-04-08 140200-3.csv = 1135\n",
      " \n",
      "../All_Data/20220408拿放資料/手2022-04-08 141200-5.csv = 1268\n",
      "../All_Data/20220408拿放資料/腳2022-04-08 141200-5.csv = 1267\n",
      " \n",
      "../All_Data/20220408拿放資料/手2022-04-08 141500-6.csv = 1537\n",
      "../All_Data/20220408拿放資料/腳2022-04-08 141500-6.csv = 1537\n",
      " \n",
      "../All_Data/20220408拿放資料/手2022-04-08 141800-4.csv = 1239\n",
      "../All_Data/20220408拿放資料/腳2022-04-08 141800-4.csv = 1238\n",
      " \n",
      "../All_Data/20220408拿放資料/手2022-04-08 142200-6.csv = 1740\n",
      "../All_Data/20220408拿放資料/腳2022-04-08 142200-6.csv = 1741\n",
      " \n"
     ]
    }
   ],
   "source": [
    "\n",
    "import pandas as pd\n",
    "import matplotlib.pyplot as plt\n",
    "import numpy as np\n",
    "for i in range((len(dataCSV)-1)//2):\n",
    "    data = pd.read_csv(dataCSV[i])\n",
    "    data = np.array(data)\n",
    "    data2 = pd.read_csv(dataCSV[i+len(dataCSV)//2])\n",
    "    data2 = np.array(data2)\n",
    "    print( dataCSV[i] + \" = \" + str(len(data)))\n",
    "    print( dataCSV[i+len(dataCSV)//2] + \" = \" + str(len(data2)))\n",
    "    print(\" \")"
   ]
  },
  {
   "cell_type": "code",
   "execution_count": null,
   "metadata": {},
   "outputs": [],
   "source": []
  }
 ],
 "metadata": {
  "interpreter": {
   "hash": "a9b4500a64cdd468ae277a4a17aeb127f09536bb33390348045dff059b4b55d4"
  },
  "kernelspec": {
   "display_name": "Python 3.9.7 ('base')",
   "language": "python",
   "name": "python3"
  },
  "language_info": {
   "codemirror_mode": {
    "name": "ipython",
    "version": 3
   },
   "file_extension": ".py",
   "mimetype": "text/x-python",
   "name": "python",
   "nbconvert_exporter": "python",
   "pygments_lexer": "ipython3",
   "version": "3.9.7"
  },
  "orig_nbformat": 4
 },
 "nbformat": 4,
 "nbformat_minor": 2
}
