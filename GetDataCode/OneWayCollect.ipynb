{
 "cells": [
  {
   "cell_type": "code",
   "execution_count": null,
   "metadata": {},
   "outputs": [
    {
     "ename": "",
     "evalue": "",
     "output_type": "error",
     "traceback": [
      "\u001b[1;31mRunning cells with 'Python 3.8.2 64-bit' requires ipykernel package.\n",
      "Run the following command to install 'ipykernel' into the Python environment. \n",
      "Command: '/usr/bin/python3 -m pip install ipykernel -U --user --force-reinstall'"
     ]
    }
   ],
   "source": [
    "import serial\n",
    "import csv\n",
    "import time\n",
    "import pandas as pd\n",
    "from datetime import datetime, timedelta\n",
    "from time import sleep\n",
    "serialPort = serial.Serial(port='COM6', baudrate=115200, timeout=2, parity=serial.PARITY_EVEN, stopbits=1)#kwk\n",
    "# serialPort2 = serial.Serial(port='COM5', baudrate=115200, timeout=2, parity=serial.PARITY_EVEN, stopbits=1)#sensor\n",
    "\n",
    "\n",
    "#/dev/cu.name\n",
    "size = 1024\n",
    "xg,yg,zg,mx,my,mz,xa,ya,za,xq,yq,zq,direc,mytime =[],[],[],[],[],[],[],[],[],[],[],[],[],[]\n",
    "# xg2,yg2,zg2,mx2,my2,mz2,xa2,ya2,za2,xq2,yq2,zq2,direc2,mytime2 =[],[],[],[],[],[],[],[],[],[],[],[],[],[]\n",
    "Ttime=str(datetime.now())\n",
    "print(Ttime[17::])\n",
    "tt=0\n",
    "TT=25\n",
    "while(tt<=TT):\n",
    "    data = serialPort.readline().decode('utf-8')\n",
    "    # data2 = serialPort2.readline().decode('utf-8')\n",
    "    print(data)\n",
    "    # print(data2)\n",
    "    data=data.split(',')\n",
    "    # data2=data2.split(',')\n",
    "    \n",
    "    if (float(str(datetime.now())[17::])< float(Ttime[17::])):      \n",
    "        tt = float(Ttime[17::])+60-float(str(datetime.now())[17::] )\n",
    "        if tt>=TT:\n",
    "            break\n",
    "    else:\n",
    "        tt = -float(Ttime[17::])+float(str(datetime.now())[17::] )\n",
    "        if tt>=TT:\n",
    "            break\n",
    "    if len(data)==16:\n",
    "        # comTime.append(data[0])\n",
    "        xg.append(data[0])\n",
    "        yg.append(data[1])\n",
    "        zg.append(data[2])\n",
    "        mx.append(data[3])\n",
    "        my.append(data[4])\n",
    "        mz.append(data[5])\n",
    "        xa.append(data[6])\n",
    "        ya.append(data[7])\n",
    "        za.append(data[8])\n",
    "        xq.append(data[9])\n",
    "        yq.append(data[10])\n",
    "        zq.append(data[11])\n",
    "        direc.append(data[12])\n",
    "        mytime.append(data[13])\n",
    "    # if len(data2)==16:\n",
    "    #     comTime2.append(data[0])\n",
    "    #     xg2.append(data[1])\n",
    "    #     yg2.append(data[2])\n",
    "    #     zg2.append(data[3])\n",
    "    #     mx2.append(data[4])\n",
    "    #     my2.append(data[5])\n",
    "    #     mz2.append(data[6])\n",
    "    #     xa2.append(data[7])\n",
    "    #     ya2.append(data[8])\n",
    "    #     za2.append(data[9])\n",
    "    #     xq2.append(data[10])\n",
    "    #     yq2.append(data[11])\n",
    "    #     zq2.append(data[12])\n",
    "    #     direc2.append(data[13])\n",
    "    #     mytime2.append(data[14])\n",
    "        \n",
    "pandasData={\"Xg\":xg,\"Yg\":yg,\"Zg\":zg,\"Xm\":mx,\"Ym\":my,\"Zm\":mz,\"Xa\":xa,\"Ya\":ya,\"Za\":za,\"Xq\":xq,\"Yq\":yq,\"Zq\":zq,\"Direction\":direc,\"Time\":mytime,\"COMTime\":comTime}\n",
    "# pandasData2={\"Xg\":xg2,\"Yg\":yg2,\"Zg\":zg2,\"Xm\":mx2,\"Ym\":my2,\"Zm\":mz2,\"Xa\":xa2,\"Ya\":ya2,\"Za\":za2,\"Xq\":xq2,\"Yq\":yq2,\"Zq\":zq2,\"Direction\":direc2,\"Time\":mytime2,\"COMTime\":comTime2}\n",
    "df = pd.DataFrame(pandasData)\n",
    "# df2= pd.DataFrame(pandasData2)\n",
    "print(df)\n",
    "# print(df2)\n",
    "# print(count)\n",
    "df.to_csv('1'+datetime.now().strftime('%Y-%m-%d %H%M%S')+'.csv')\n",
    "# df2.to_csv('2'+datetime.now().strftime('%Y-%m-%d %H%M%S')+'.csv')\n",
    "serialPort.close()\n",
    "# serialPort2.close()"
   ]
  },
  {
   "cell_type": "code",
   "execution_count": null,
   "metadata": {},
   "outputs": [],
   "source": []
  }
 ],
 "metadata": {
  "kernelspec": {
   "display_name": "Python 3",
   "language": "python",
   "name": "python3"
  },
  "language_info": {
   "codemirror_mode": {
    "name": "ipython",
    "version": 3
   },
   "file_extension": ".py",
   "mimetype": "text/x-python",
   "name": "python",
   "nbconvert_exporter": "python",
   "pygments_lexer": "ipython3",
   "version": "3.8.2"
  }
 },
 "nbformat": 4,
 "nbformat_minor": 4
}
