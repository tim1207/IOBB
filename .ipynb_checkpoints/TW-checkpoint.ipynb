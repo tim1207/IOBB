{
 "cells": [
  {
   "cell_type": "code",
   "execution_count": null,
   "metadata": {
    "scrolled": true
   },
   "outputs": [],
   "source": [
    "import serial\n",
    "import csv\n",
    "import pandas as pd\n",
    "from time import sleep\n",
    "serialPort = serial.Serial(port='/dev/cu.TW-ESP32SPP', baudrate=115200, timeout=2, parity=serial.PARITY_EVEN, stopbits=1)\n",
    "size = 1024\n",
    "xg =[]\n",
    "yg =[]\n",
    "zg =[]\n",
    "mx =[]\n",
    "my =[]\n",
    "mz =[]\n",
    "for i in range (0,40):\n",
    "    serialPort.write(\"csdcsdc\\n\".encode(\"UTF-8\"))#str.encode(\"init\"))\n",
    "#     sleep(1)\n",
    "    data = serialPort.readline(size).decode()\n",
    "#     print(data)\n",
    "    data=data.split(',')\n",
    "    if len(data)==7:\n",
    "        mx.append(data[0])\n",
    "        my.append(data[1])\n",
    "        mz.append(data[2])\n",
    "        xg.append(data[3])\n",
    "        yg.append(data[4])\n",
    "        zg.append(data[5])\n",
    "pandasData={\"Xg\":xg,\"Yg\":yg,\"Zg\":zg,\"Xm\":mx,\"Ym\":my,\"Zm\":mz}\n",
    "df = pd.DataFrame(pandasData)\n",
    "print(df)\n",
    "df.to_csv('output.csv')\n",
    "serialPort.close()"
   ]
  },
  {
   "cell_type": "code",
   "execution_count": null,
   "metadata": {},
   "outputs": [],
   "source": []
  },
  {
   "cell_type": "code",
   "execution_count": null,
   "metadata": {},
   "outputs": [],
   "source": []
  },
  {
   "cell_type": "code",
   "execution_count": null,
   "metadata": {},
   "outputs": [],
   "source": []
  },
  {
   "cell_type": "code",
   "execution_count": null,
   "metadata": {},
   "outputs": [],
   "source": []
  },
  {
   "cell_type": "code",
   "execution_count": null,
   "metadata": {},
   "outputs": [],
   "source": []
  }
 ],
 "metadata": {
  "kernelspec": {
   "display_name": "Python 3",
   "language": "python",
   "name": "python3"
  },
  "language_info": {
   "codemirror_mode": {
    "name": "ipython",
    "version": 3
   },
   "file_extension": ".py",
   "mimetype": "text/x-python",
   "name": "python",
   "nbconvert_exporter": "python",
   "pygments_lexer": "ipython3",
   "version": "3.8.3"
  }
 },
 "nbformat": 4,
 "nbformat_minor": 4
}
