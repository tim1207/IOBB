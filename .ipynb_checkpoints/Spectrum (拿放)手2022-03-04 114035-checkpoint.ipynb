{
 "cells": [
  {
   "cell_type": "code",
   "execution_count": 6,
   "id": "607c814e",
   "metadata": {
    "scrolled": false
   },
   "outputs": [],
   "source": [
    "import serial\n",
    "import csv\n",
    "import time\n",
    "import pandas as pd\n",
    "import matplotlib.pyplot as plt\n",
    "import numpy as np\n",
    "from scipy.fftpack import fft, ifft\n",
    "import math\n",
    "\n",
    "start=0\n",
    "# sampling rate\n",
    "sr = 100\n",
    "# sampling interval\n",
    "ts = 1.0/sr\n",
    "t = np.arange(0,1,ts)\n",
    "\n",
    "data = pd.read_csv(\"./220304拿放水壺(坐著)/手2022-03-04 114035.csv\")\n",
    "data = np.array(data)\n",
    "length=[]\n",
    "for i in range(len(data)):\n",
    "    length.append(i)\n",
    "# print(len(length))\n",
    "Spectrum=[]\n",
    "Spectrum_index=list(range(0, 100))\n",
    "index=0"
   ]
  },
  {
   "cell_type": "code",
   "execution_count": 8,
   "id": "ed59b856",
   "metadata": {},
   "outputs": [
    {
     "data": {
      "image/png": "[encoded data removed]",
      "text/plain": [
       "<Figure size 432x288 with 1 Axes>"
      ]
     },
     "metadata": {
      "needs_background": "light"
     },
     "output_type": "display_data"
    },
    {
     "name": "stderr",
     "output_type": "stream",
     "text": [
      "/Users/linjunting/opt/anaconda3/lib/python3.9/site-packages/numpy/core/_asarray.py:102: ComplexWarning: Casting complex values to real discards the imaginary part\n",
      "  return array(a, dtype, copy=False, order=order)\n"
     ]
    },
    {
     "data": {
      "image/png": "[encoded data removed]",
      "text/plain": [
       "<Figure size 432x288 with 1 Axes>"
      ]
     },
     "metadata": {
      "needs_background": "light"
     },
     "output_type": "display_data"
    },
    {
     "ename": "ValueError",
     "evalue": "invalid number of data points (0) specified",
     "output_type": "error",
     "traceback": [
      "\u001b[0;31m---------------------------------------------------------------------------\u001b[0m",
      "\u001b[0;31mValueError\u001b[0m                                Traceback (most recent call last)",
      "\u001b[0;32m/var/folders/nn/k75mfp3946lf7jzz8pdhmkyr0000gn/T/ipykernel_2110/2052768870.py\u001b[0m in \u001b[0;36m<module>\u001b[0;34m\u001b[0m\n\u001b[1;32m      2\u001b[0m \u001b[0;31m#     x=np.real(fft(data[start+(sr*i):start+((i+1)*sr),1]))\u001b[0m\u001b[0;34m\u001b[0m\u001b[0;34m\u001b[0m\u001b[0m\n\u001b[1;32m      3\u001b[0m     \u001b[0mx\u001b[0m\u001b[0;34m=\u001b[0m\u001b[0mnp\u001b[0m\u001b[0;34m.\u001b[0m\u001b[0mreal\u001b[0m\u001b[0;34m(\u001b[0m\u001b[0;34m(\u001b[0m\u001b[0mdata\u001b[0m\u001b[0;34m[\u001b[0m\u001b[0mstart\u001b[0m\u001b[0;34m+\u001b[0m\u001b[0mi\u001b[0m\u001b[0;34m:\u001b[0m\u001b[0mstart\u001b[0m\u001b[0;34m+\u001b[0m\u001b[0mi\u001b[0m\u001b[0;34m+\u001b[0m\u001b[0msr\u001b[0m\u001b[0;34m,\u001b[0m\u001b[0;36m1\u001b[0m\u001b[0;34m]\u001b[0m\u001b[0;34m)\u001b[0m\u001b[0;34m)\u001b[0m\u001b[0;34m\u001b[0m\u001b[0;34m\u001b[0m\u001b[0m\n\u001b[0;32m----> 4\u001b[0;31m     \u001b[0mX\u001b[0m \u001b[0;34m=\u001b[0m \u001b[0mfft\u001b[0m\u001b[0;34m(\u001b[0m\u001b[0mx\u001b[0m\u001b[0;34m)\u001b[0m\u001b[0;34m\u001b[0m\u001b[0;34m\u001b[0m\u001b[0m\n\u001b[0m\u001b[1;32m      5\u001b[0m     \u001b[0mN\u001b[0m \u001b[0;34m=\u001b[0m \u001b[0mlen\u001b[0m\u001b[0;34m(\u001b[0m\u001b[0mX\u001b[0m\u001b[0;34m)\u001b[0m\u001b[0;34m\u001b[0m\u001b[0;34m\u001b[0m\u001b[0m\n\u001b[1;32m      6\u001b[0m     \u001b[0mn\u001b[0m \u001b[0;34m=\u001b[0m \u001b[0mnp\u001b[0m\u001b[0;34m.\u001b[0m\u001b[0marange\u001b[0m\u001b[0;34m(\u001b[0m\u001b[0mN\u001b[0m\u001b[0;34m)\u001b[0m\u001b[0;34m\u001b[0m\u001b[0;34m\u001b[0m\u001b[0m\n",
      "\u001b[0;32m~/opt/anaconda3/lib/python3.9/site-packages/scipy/fftpack/basic.py\u001b[0m in \u001b[0;36mfft\u001b[0;34m(x, n, axis, overwrite_x)\u001b[0m\n\u001b[1;32m     85\u001b[0m \u001b[0;34m\u001b[0m\u001b[0m\n\u001b[1;32m     86\u001b[0m     \"\"\"\n\u001b[0;32m---> 87\u001b[0;31m     \u001b[0;32mreturn\u001b[0m \u001b[0m_pocketfft\u001b[0m\u001b[0;34m.\u001b[0m\u001b[0mfft\u001b[0m\u001b[0;34m(\u001b[0m\u001b[0mx\u001b[0m\u001b[0;34m,\u001b[0m \u001b[0mn\u001b[0m\u001b[0;34m,\u001b[0m \u001b[0maxis\u001b[0m\u001b[0;34m,\u001b[0m \u001b[0;32mNone\u001b[0m\u001b[0;34m,\u001b[0m \u001b[0moverwrite_x\u001b[0m\u001b[0;34m)\u001b[0m\u001b[0;34m\u001b[0m\u001b[0;34m\u001b[0m\u001b[0m\n\u001b[0m\u001b[1;32m     88\u001b[0m \u001b[0;34m\u001b[0m\u001b[0m\n\u001b[1;32m     89\u001b[0m \u001b[0;34m\u001b[0m\u001b[0m\n",
      "\u001b[0;32m~/opt/anaconda3/lib/python3.9/site-packages/scipy/fft/_pocketfft/basic.py\u001b[0m in \u001b[0;36mc2c\u001b[0;34m(forward, x, n, axis, norm, overwrite_x, workers, plan)\u001b[0m\n\u001b[1;32m     24\u001b[0m         \u001b[0moverwrite_x\u001b[0m \u001b[0;34m=\u001b[0m \u001b[0moverwrite_x\u001b[0m \u001b[0;32mor\u001b[0m \u001b[0mcopied\u001b[0m\u001b[0;34m\u001b[0m\u001b[0;34m\u001b[0m\u001b[0m\n\u001b[1;32m     25\u001b[0m     \u001b[0;32melif\u001b[0m \u001b[0mtmp\u001b[0m\u001b[0;34m.\u001b[0m\u001b[0mshape\u001b[0m\u001b[0;34m[\u001b[0m\u001b[0maxis\u001b[0m\u001b[0;34m]\u001b[0m \u001b[0;34m<\u001b[0m \u001b[0;36m1\u001b[0m\u001b[0;34m:\u001b[0m\u001b[0;34m\u001b[0m\u001b[0;34m\u001b[0m\u001b[0m\n\u001b[0;32m---> 26\u001b[0;31m         raise ValueError(\"invalid number of data points ({0}) specified\"\n\u001b[0m\u001b[1;32m     27\u001b[0m                          .format(tmp.shape[axis]))\n\u001b[1;32m     28\u001b[0m \u001b[0;34m\u001b[0m\u001b[0m\n",
      "\u001b[0;31mValueError\u001b[0m: invalid number of data points (0) specified"
     ]
    }
   ],
   "source": [
    "for i in range (0,2000,1000):\n",
    "#     x=np.real(fft(data[start+(sr*i):start+((i+1)*sr),1]))\n",
    "    x=np.real(fft(data[start+i:start+i+sr,1]))\n",
    "    X = fft(x)\n",
    "    N = len(X)\n",
    "    n = np.arange(N)\n",
    "    T = N/sr\n",
    "    freq = n/T \n",
    "\n",
    "#     plt.figure(figsize = (40, 15), dpi = 300, linewidth = 4)\n",
    "#     plt.xticks(fontsize = 30)\n",
    "#     plt.yticks(fontsize = 30)\n",
    "    plt.stem(freq, np.abs(X), 'b', markerfmt=\" \", basefmt=\"-b\")\n",
    "    Spectrum.append(np.abs(X))\n",
    "#     plt.xlabel('Freq (Hz)', fontsize = 40, labelpad = 20)\n",
    "#     plt.ylabel('FFT Amplitude |X(freq)|', fontsize = 40, labelpad = 20)\n",
    "    plt.show()\n",
    "#     plt.figure(figsize = (40, 15), dpi = 300, linewidth = 4)\n",
    "#     plt.xticks(fontsize = 30)\n",
    "#     plt.yticks(fontsize = 30)\n",
    "    plt.plot(t, ifft(X), 'r')\n",
    "#     plt.xlabel('Time (s)', fontsize = 40, labelpad = 20)\n",
    "#     plt.ylabel('Amplitude', fontsize = 40, labelpad = 20)\n",
    "    plt.tight_layout()\n",
    "    plt.show()"
   ]
  },
  {
   "cell_type": "code",
   "execution_count": null,
   "id": "7d53b30a",
   "metadata": {},
   "outputs": [],
   "source": [
    "print(Spectrum)"
   ]
  },
  {
   "cell_type": "code",
   "execution_count": null,
   "id": "2f5970cd",
   "metadata": {
    "scrolled": true
   },
   "outputs": [],
   "source": [
    "# show all data\n",
    "plt.figure(figsize = (40, 15), dpi = 300, linewidth = 4)\n",
    "plt.xlabel(\"time\", fontsize = 40, labelpad = 20)\n",
    "plt.xticks(fontsize = 30)\n",
    "plt.yticks(fontsize = 30)\n",
    "plt.plot(length, data[:,1], color = 'r', label = \"Xa\")\n",
    "plt.plot(length, data[:,2], color = 'g', label = \"Ya\")\n",
    "plt.plot(length, data[:,3], color = 'b', label = \"Za\")\n",
    "plt.legend(loc = \"center left\", fontsize = 20, bbox_to_anchor = (1, 0.5))\n",
    "plt.show()"
   ]
  },
  {
   "cell_type": "code",
   "execution_count": null,
   "id": "93bdb099",
   "metadata": {},
   "outputs": [],
   "source": [
    "# plot_color_gradients('Sequential',\n",
    "#                      ['Greys', 'Purples', 'Blues', 'Greens', 'Oranges', 'Reds',\n",
    "#                       'YlOrBr', 'YlOrRd', 'OrRd', 'PuRd', 'RdPu', 'BuPu',\n",
    "#                       'GnBu', 'PuBu', 'YlGnBu', 'PuBuGn', 'BuGn', 'YlGn'])\n",
    "# plot_color_gradients('Perceptually Uniform Sequential',\n",
    "#                      ['viridis', 'plasma', 'inferno', 'magma', 'cividis'])\n",
    "\n",
    "plt.figure(figsize = (40, 15), dpi = 300, linewidth = 4)\n",
    "plt.xticks(fontsize = 30)\n",
    "plt.yticks(fontsize = 30)\n",
    "plt.ylabel('Frequency',fontsize = 30)\n",
    "plt.xlabel('Time',fontsize = 30)\n",
    "plt.title('Xa transfrom',fontsize = 30)  \n",
    "plt.specgram(data[:,1],Fs=1,cmap='plasma')\n",
    "plt.colorbar()\n",
    "plt.show()\n",
    "\n",
    "plt.figure(figsize = (40, 15), dpi = 300, linewidth = 4)\n",
    "plt.xticks(fontsize = 30)\n",
    "plt.yticks(fontsize = 30)\n",
    "plt.ylabel('Frequency',fontsize = 30)\n",
    "plt.xlabel('Time',fontsize = 30)\n",
    "plt.title('Ya transfrom',fontsize = 30)  \n",
    "plt.specgram(data[:,2])\n",
    "plt.colorbar()\n",
    "plt.show()\n",
    "\n",
    "plt.figure(figsize = (40, 15), dpi = 300, linewidth = 4)\n",
    "plt.xticks(fontsize = 30)\n",
    "plt.yticks(fontsize = 30)\n",
    "plt.ylabel('Frequency',fontsize = 30)\n",
    "plt.xlabel('Time',fontsize = 30)\n",
    "plt.title('Za transfrom',fontsize = 30)  \n",
    "plt.specgram(data[:,3])\n",
    "plt.colorbar()\n",
    "plt.show()"
   ]
  },
  {
   "cell_type": "code",
   "execution_count": null,
   "id": "2693ae20",
   "metadata": {},
   "outputs": [],
   "source": []
  }
 ],
 "metadata": {
  "kernelspec": {
   "display_name": "Python 3 (ipykernel)",
   "language": "python",
   "name": "python3"
  },
  "language_info": {
   "codemirror_mode": {
    "name": "ipython",
    "version": 3
   },
   "file_extension": ".py",
   "mimetype": "text/x-python",
   "name": "python",
   "nbconvert_exporter": "python",
   "pygments_lexer": "ipython3",
   "version": "3.9.7"
  }
 },
 "nbformat": 4,
 "nbformat_minor": 5
}
