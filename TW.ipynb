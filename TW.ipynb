{
 "cells": [
  {
   "cell_type": "code",
   "execution_count": 1,
   "metadata": {
    "scrolled": true
   },
   "outputs": [
    {
     "name": "stdout",
     "output_type": "stream",
     "text": [
      "       Xg    Yg     Zg     Xm      Ym      Zm\n",
      "0    0.00  0.00   0.00  -1.06  -23.69  -22.75\n",
      "1    0.00  0.00   0.00  -1.44  -22.94  -23.12\n",
      "2   -0.00  0.00  -0.00  -1.44  -22.94  -23.12\n",
      "3   -0.00  0.00  -0.00  -0.31  -23.31  -22.75\n",
      "4    0.00  0.00   0.00  -0.31  -23.31  -22.75\n",
      "5    0.00  0.00   0.00  -0.31  -24.37  -21.94\n",
      "6   -0.00  0.00  -0.00  -0.31  -24.37  -21.94\n",
      "7   -0.00  0.00  -0.00  -1.44  -24.37  -21.94\n",
      "8   -0.00  0.00  -0.00  -1.44  -24.37  -21.94\n",
      "9   -0.00  0.00  -0.00  -1.44  -22.56  -22.37\n",
      "10   0.00  0.00  -0.00  -1.44  -22.56  -22.37\n",
      "11   0.00  0.00  -0.00  -1.06  -24.06  -23.12\n",
      "12  -0.00  0.00  -0.00  -1.06  -24.06  -23.12\n",
      "13  -0.00  0.00  -0.00  -0.31  -23.31  -23.12\n",
      "14  -0.00  0.00   0.00  -0.31  -23.31  -23.12\n",
      "15  -0.00  0.00   0.00  -1.06  -22.94  -21.94\n",
      "16   0.00  0.00   0.00  -1.06  -22.94  -21.94\n",
      "17   0.00  0.00   0.00  -0.69  -24.37  -22.37\n",
      "18  -0.00  0.00  -0.00  -0.69  -24.37  -22.37\n",
      "19  -0.00  0.00  -0.00  -1.44  -24.06  -22.37\n",
      "20   0.00  0.00   0.00  -1.44  -24.06  -22.37\n",
      "21   0.00  0.00   0.00  -1.06  -22.19  -22.37\n",
      "22  -0.00  0.00   0.00  -1.06  -22.19  -22.37\n",
      "23  -0.00  0.00   0.00  -1.44  -23.31  -21.56\n",
      "24   0.00  0.00   0.00  -1.44  -23.31  -21.56\n",
      "25   0.00  0.00   0.00  -0.69  -24.37  -22.75\n",
      "26   0.00  0.00   0.00  -0.69  -24.37  -22.75\n",
      "27   0.00  0.00   0.00  -1.06  -23.69  -22.37\n",
      "28  -0.00  0.00   0.00  -1.06  -23.69  -22.37\n",
      "29  -0.00  0.00   0.00  -1.06  -23.69  -22.37\n",
      "30  -0.00  0.00   0.00  -1.06  -23.69  -22.37\n",
      "31  -0.00  0.00   0.00  -1.06  -24.06  -22.75\n",
      "32   0.00  0.00   0.00  -1.06  -24.06  -22.75\n",
      "33   0.00  0.00   0.00  -2.19  -23.69  -23.56\n",
      "34   0.00  0.00  -0.00  -2.19  -23.69  -23.56\n",
      "35   0.00  0.00  -0.00  -1.44  -23.69  -22.37\n",
      "36   0.00  0.00   0.00  -1.44  -23.69  -22.37\n",
      "37   0.00  0.00   0.00  -1.44  -23.69  -22.37\n",
      "38   0.00  0.00   0.00  -1.44  -23.69  -22.37\n",
      "39   0.00  0.00   0.00  -1.81  -24.37  -21.19\n"
     ]
    }
   ],
   "source": [
    "import serial\n",
    "import csv\n",
    "import pandas as pd\n",
    "from time import sleep\n",
    "serialPort = serial.Serial(port='/dev/cu.TW-ESP32SPP', baudrate=115200, timeout=2, parity=serial.PARITY_EVEN, stopbits=1)\n",
    "size = 1024\n",
    "xg =[]\n",
    "yg =[]\n",
    "zg =[]\n",
    "mx =[]\n",
    "my =[]\n",
    "mz =[]\n",
    "for i in range (0,40):\n",
    "    serialPort.write(\"csdcsdc\\n\".encode(\"UTF-8\"))#str.encode(\"init\"))\n",
    "#     sleep(1)\n",
    "    data = serialPort.readline(size).decode()\n",
    "#     print(data)\n",
    "    data=data.split(',')\n",
    "    if len(data)==7:\n",
    "        mx.append(data[0])\n",
    "        my.append(data[1])\n",
    "        mz.append(data[2])\n",
    "        xg.append(data[3])\n",
    "        yg.append(data[4])\n",
    "        zg.append(data[5])\n",
    "pandasData={\"Xg\":xg,\"Yg\":yg,\"Zg\":zg,\"Xm\":mx,\"Ym\":my,\"Zm\":mz}\n",
    "df = pd.DataFrame(pandasData)\n",
    "print(df)\n",
    "df.to_csv('output.csv')\n",
    "serialPort.close()"
   ]
  },
  {
   "cell_type": "code",
   "execution_count": null,
   "metadata": {},
   "outputs": [],
   "source": []
  },
  {
   "cell_type": "code",
   "execution_count": null,
   "metadata": {},
   "outputs": [],
   "source": []
  },
  {
   "cell_type": "code",
   "execution_count": null,
   "metadata": {},
   "outputs": [],
   "source": []
  },
  {
   "cell_type": "code",
   "execution_count": null,
   "metadata": {},
   "outputs": [],
   "source": []
  },
  {
   "cell_type": "code",
   "execution_count": null,
   "metadata": {},
   "outputs": [],
   "source": []
  }
 ],
 "metadata": {
  "kernelspec": {
   "display_name": "Python 3",
   "language": "python",
   "name": "python3"
  },
  "language_info": {
   "codemirror_mode": {
    "name": "ipython",
    "version": 3
   },
   "file_extension": ".py",
   "mimetype": "text/x-python",
   "name": "python",
   "nbconvert_exporter": "python",
   "pygments_lexer": "ipython3",
   "version": "3.8.3"
  }
 },
 "nbformat": 4,
 "nbformat_minor": 4
}
