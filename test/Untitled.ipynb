{
 "cells": [
  {
   "cell_type": "code",
   "execution_count": 22,
   "id": "3ce88416",
   "metadata": {},
   "outputs": [
    {
     "name": "stdout",
     "output_type": "stream",
     "text": [
      "[[ 0.00000e+00  3.32500e+01 -1.68100e+01 ... -2.60000e-01  7.40000e-01\n",
      "   7.17831e+05]\n",
      " [ 1.00000e+00  3.32500e+01 -1.68100e+01 ... -2.60000e-01  7.40000e-01\n",
      "   7.17845e+05]\n",
      " [ 2.00000e+00  3.29400e+01 -1.56300e+01 ... -2.60000e-01  7.40000e-01\n",
      "   7.17851e+05]\n",
      " ...\n",
      " [ 9.46000e+02  2.90000e+01  1.24400e+01 ... -7.70000e-01  5.60000e-01\n",
      "   7.51246e+05]\n",
      " [ 9.47000e+02  2.90000e+01  1.24400e+01 ... -7.70000e-01  5.60000e-01\n",
      "   7.51270e+05]\n",
      " [ 9.48000e+02  2.90000e+01  1.24400e+01 ... -7.60000e-01  5.70000e-01\n",
      "   7.51319e+05]]\n",
      "[-16.81, -15.94, -15.94, -15.94, -14.88, -17.44, -15.81, -15.94, -15.31, -16.12, -14.44, -14.13, -12.5, -11.38, -13.31, -12.0, -12.0, -12.0, -14.38, -11.5, -12.38, -11.5, -11.5, -12.06, -12.94, -12.25, -12.5, -12.44, -12.44, -11.63, -11.63, -9.63, -12.5, -12.5, -11.31, -10.88, -10.88, -10.31, -7.44, -10.5, -10.5, -10.5, -9.88, -10.81, -16.25, -18.37, -19.12, -15.44, -17.94, -16.69, -18.19, -13.25, -14.88, -13.69, -11.25, -11.44, -11.63, -12.25, -12.25, -15.44, -12.94, -13.75, -14.44, -13.75, -13.63, -16.25, -14.63, -14.75, -14.63, -14.25, -15.69, -15.75, -13.25, -15.44, -14.81, -14.81, -14.81, -15.44, -18.31, -14.94, -16.19, -15.13, -15.44, -15.25, -18.37, -15.69, -13.94, -13.94, -15.19, -1.19, 0.0, 15.38, 13.88, 12.44, 12.44]\n"
     ]
    }
   ],
   "source": [
    "from scipy.fftpack import fft  \n",
    "import serial\n",
    "import csv\n",
    "import time\n",
    "import pandas as pd\n",
    "import matplotlib.pyplot as plt\n",
    "import numpy as np\n",
    "\n",
    "data = pd.read_csv(\"./1209站著坐著/StandUpAndDown012021-12-09 155254.csv\")\n",
    "# print(data)\n",
    "data = np.array(data)\n",
    "print(data)\n",
    "temp=[]\n",
    "for i in range (0,949,10):\n",
    "    temp.append(data[i,2])\n",
    "print(temp)\n",
    "x = data[:,0]\n",
    "\n",
    "\n",
    "# fftdata = np.real(fft(temp))\n",
    "# print(fftdata) \n",
    "# plt.figure(figsize=(40,15),dpi=300,linewidth=4)\n",
    "# plt.plot(x,fftdata,color = 'r',label=\"data\")\n",
    "\n",
    "# [ 0.00000e+00  3.32500e+01 -1.68100e+01 ... -2.60000e-01  7.40000e-01\n",
    "#    7.17831e+05]"
   ]
  },
  {
   "cell_type": "code",
   "execution_count": null,
   "id": "5e1114e1",
   "metadata": {},
   "outputs": [],
   "source": []
  },
  {
   "cell_type": "code",
   "execution_count": null,
   "id": "6d2be61a",
   "metadata": {},
   "outputs": [],
   "source": []
  }
 ],
 "metadata": {
  "kernelspec": {
   "display_name": "Python 3",
   "language": "python",
   "name": "python3"
  },
  "language_info": {
   "codemirror_mode": {
    "name": "ipython",
    "version": 3
   },
   "file_extension": ".py",
   "mimetype": "text/x-python",
   "name": "python",
   "nbconvert_exporter": "python",
   "pygments_lexer": "ipython3",
   "version": "3.8.8"
  }
 },
 "nbformat": 4,
 "nbformat_minor": 5
}
